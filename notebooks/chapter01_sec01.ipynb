{
 "cells": [
  {
   "cell_type": "markdown",
   "id": "1673ee3c",
   "metadata": {},
   "source": [
    "# Statistik mit Pandas\n",
    "\n",
    "Pandas dient nicht nur dazu, Daten zu sammeln, sondern ermöglicht auch\n",
    "statistische Analysen. Die deskriptive Statistik hat zum Ziel, Daten durch\n",
    "einfache Kennzahlen und Diagramme zu beschreiben. In diesem Kapitel geht es\n",
    "darum, die wichtigsten statistischen Kennzahlen mit Pandas zu ermitteln und zu\n",
    "interpretieren. \n",
    "\n",
    "\n",
    "## Lernziele\n",
    "\n",
    "* Sie können sich mit **.describe()** eine Übersicht über statistische Kennzahlen\n",
    "  verschaffen.\n",
    "* Sie wissen, wie Sie die Anzahl der gültigen Einträge mit **.count()** ermitteln.\n",
    "* Sie kennen die statistischen Kennzahlen Mittelwert und Standardabweichung und\n",
    "  wissen, wie diese mit **.mean()** und **.std()** berechnet werden.\n",
    "* Sie können das Minimum und das Maximum mit **.min()** und **.max()** bestimmen.\n",
    "* Sie wissen wie ein Quantil interpretiert wird und wie es mit **.quantile()**\n",
    "  berechnet wird.\n",
    "\n",
    "\n",
    "\n",
    "## Schnelle Übersicht mit .describe()\n",
    "\n",
    "Die Methode `.describe()` aus dem Pandas-Modul liefert eine schnelle Übersicht\n",
    "über viele statistische Kennzahlen. Vor allem, wenn neue Daten geladen werden,\n",
    "sollte diese Methode direkt am Anfang angewendet werden. Wir bleiben bei unserem\n",
    "Beispiel mit den zehn Autos und deren Verkaufspreisen."
   ]
  },
  {
   "cell_type": "code",
   "execution_count": null,
   "id": "8bf0a925",
   "metadata": {},
   "outputs": [],
   "source": [
    "# Import des Pandas-Moduls \n",
    "import pandas as pd\n",
    "\n",
    "# Erzeugung der Daten als Series-Objekt\n",
    "preisliste = [1999, 35990, 17850, 46830, 27443, 14240, 19950, 15950, 21990, 12450]\n",
    "autos = ['Audi Nr. 1', 'Audi Nr. 2', 'Audi Nr. 3', 'BMW Nr. 1', 'BMW Nr. 2', 'Citroen Nr. 1', 'Citroen Nr. 2', 'Citroen Nr. 3', 'Citroen Nr. 4', 'Citroen Nr. 5']\n",
    "preise = pd.Series(preisliste, index = autos)"
   ]
  },
  {
   "cell_type": "markdown",
   "id": "a92e82b5",
   "metadata": {},
   "source": [
    "Die Anwendung der `.describe()`-Methode liefert folgende Ausgabe:"
   ]
  },
  {
   "cell_type": "code",
   "execution_count": null,
   "id": "8b9dfe25",
   "metadata": {},
   "outputs": [],
   "source": [
    "preise.describe()"
   ]
  },
  {
   "cell_type": "markdown",
   "id": "d3f5c094",
   "metadata": {},
   "source": [
    "Offensichtlich liefert die Methode `.describe()` acht statistische Kennzahlen,\n",
    "deren Bedeutung in der\n",
    "[Pandas-Dokumentation](https://pandas.pydata.org/docs/reference/api/pandas.Series.describe.html)\n",
    "erläutert wird. Wir gehen im Folgenden jede Kennzahl einzeln durch. \n",
    "\n",
    "Aber was machen wir, wenn wir die statistischen Kennzahlen erst später verwenden\n",
    "wollen, können wir sie zwischenspeichern? Probieren wir es aus."
   ]
  },
  {
   "cell_type": "code",
   "execution_count": null,
   "id": "3cddaf43",
   "metadata": {},
   "outputs": [],
   "source": [
    "statistische_kennzahlen = preise.describe()"
   ]
  },
  {
   "cell_type": "markdown",
   "id": "cb15dbb5",
   "metadata": {},
   "source": [
    "Es kommt keine Fehlermeldung. Und was ist in der Variable\n",
    "`statistische_kennzahlen` nun genau gespeichert, welcher Datentyp?"
   ]
  },
  {
   "cell_type": "code",
   "execution_count": null,
   "id": "3bc0e481",
   "metadata": {},
   "outputs": [],
   "source": [
    "type(statistische_kennzahlen)"
   ]
  },
  {
   "cell_type": "markdown",
   "id": "b91da165",
   "metadata": {},
   "source": [
    "Offensichtlich wird durch das Anwenden der `.describe()`-Methode auf das\n",
    "Series-Objekt `preise` ein neues Series-Objekt erzeugt, in dem wiederum die\n",
    "statistischen Kennzahlen von `preise` gespeichert sind. Da wir im letzten\n",
    "Kapitel schon gelernt haben, dass mit eckigen Klammern und dem Index auf einen\n",
    "einzelnen Wert zugegriffen werden kann, können wir uns so den minimalen\n",
    "Verkaufspreis ausgeben lassen:"
   ]
  },
  {
   "cell_type": "code",
   "execution_count": null,
   "id": "6046ffc4",
   "metadata": {},
   "outputs": [],
   "source": [
    "minimaler_preis = statistische_kennzahlen['min']\n",
    "print(f'Das billigste Auto wird für {minimaler_preis} EUR angeboten.')"
   ]
  },
  {
   "cell_type": "markdown",
   "id": "3d0d6768",
   "metadata": {},
   "source": [
    "**Mini-Übung**\n",
    "\n",
    "Lassen Sie zuerst die Verkaufspreise aufsteigend sortieren und ausgeben. Lesen\n",
    "Sie anhand der Ausgabe ab: welches Auto ist am teuersten und für wieviel Euro\n",
    "wird es bei Autoscout24 angeboten? Lassen Sie dann das Maximum über die\n",
    "statistischen Kennzahlen, d.h. mit .describe() ermitteln. Vergleichen Sie beide\n",
    "Werte."
   ]
  },
  {
   "cell_type": "code",
   "execution_count": null,
   "id": "02c9882a",
   "metadata": {},
   "outputs": [],
   "source": [
    "# Hier Ihr Code"
   ]
  },
  {
   "cell_type": "markdown",
   "id": "3e680b39",
   "metadata": {},
   "source": [
    "Neben der Möglichkeit, die statistischen Kennzahlen über .describe() berechnen\n",
    "zu lassen und dann mit dem expliziten Index darauf zuzugreifen, gibt es auch\n",
    "Methoden, um die statistischen Kennzahlen direkt zu ermitteln. \n",
    "\n",
    "## Anzahl count()\n",
    "\n",
    "Mit `.count()` wird die Anzahl der Einträge bestimmt, die *nicht* 'NA' sind. Der\n",
    "Begriff 'NA' ist ein Fachbegriff des maschinellen Lernens. Gemeint sind fehlende\n",
    "Einträge, wobei die fehlenden Einträge verschiedene Ursachen haben können:\n",
    "\n",
    "* NA = not available (der Messsensor hat versagt)\n",
    "* NA = not applicable (es ist sinnlos bei einem Mann nachzufragen, ob er\n",
    "  schwanger ist)\n",
    "* NA = no answer (eine Person hat bei dem Umfrage nichts angegeben)"
   ]
  },
  {
   "cell_type": "code",
   "execution_count": null,
   "id": "8e47c638",
   "metadata": {},
   "outputs": [],
   "source": [
    "anzahl_gueltige_preise = preise.count()\n",
    "print(f'Im Series-Objekt sind {anzahl_gueltige_preise} nicht NA-Werte, also gültige Datensätze gespeichert.')"
   ]
  },
  {
   "cell_type": "markdown",
   "id": "13266050",
   "metadata": {},
   "source": [
    "## Mittelwert mean()\n",
    "\n",
    "Der Mittelwert ist die Summe aller Elemente geteilt durch ihre Anzahl. Wie\n",
    "praktisch, dass wir mit .count() schon die Anzahl der gültigen Werte geliefert\n",
    "bekommen. Rechnen wir zuerst einmal \"händisch\" nach, was der durchschnittliche\n",
    "Verkaufspreis der 10 Autos ist."
   ]
  },
  {
   "cell_type": "code",
   "execution_count": null,
   "id": "730d8062",
   "metadata": {},
   "outputs": [],
   "source": [
    "preisliste = [1999, 35990, 17850, 46830, 27443, 14240, 19950, 15950, 21990, 12450]\n",
    "summe = 1999 + 35990 + 17850 + 46830 + 27443 + 14240 + 19950 + 15950 + 21990 + 12450\n",
    "print(f'Die Summe ist {summe} EUR.')\n",
    "mittelwert = summe / 10\n",
    "print(f'Der durchschnittliche Verkaufspreis ist {mittelwert} EUR.')"
   ]
  },
  {
   "cell_type": "markdown",
   "id": "be1ae373",
   "metadata": {},
   "source": [
    "Mittelwert heißt auf Englisch mean. Daher ist es nicht verwunderlich, dass die\n",
    "Methode `.mean()` den Mittelwert der Einträge in jeder Spalte berechnet."
   ]
  },
  {
   "cell_type": "code",
   "execution_count": null,
   "id": "bffbdbe8",
   "metadata": {},
   "outputs": [],
   "source": [
    "mittelwert = preise.mean()\n",
    "print(f'Der mittlere Verkaufspreis beträgt {mittelwert} Euro.')"
   ]
  },
  {
   "cell_type": "markdown",
   "id": "ced7a50b",
   "metadata": {},
   "source": [
    "## Standardabweichung std()\n",
    "\n",
    "Der Mittelwert ist eine sehr wichtige statistische Kennzahl. Allerdings verrät\n",
    "der Mittelwert nicht, wie sich die einzelnen Autopreise relativ zum Mittelwert\n",
    "verhalten. Bei den 10 Autos sehen wir mit einem Blick, dass einzelne Autos sehr\n",
    "stark vom Mittelwert abweichen. Audi Nr. 1 kostet nur 1999 EUR und damit nur\n",
    "circa 10 % vom durchschnittlichen Verkaufspreis. Dafür ist BMW Nr. 1 mehr als\n",
    "doppelt so teuer. Es ist daher wichtig, sich zusätzlich zum Mittelwert\n",
    "anzusehen, wie die anderen Datenpunkte vom Mittelwert abweichen. In der\n",
    "Statistik wird das als **Streuung** bezeichnet. Eine statistische Kennzahl, die\n",
    "die Streuung von Daten um den Mittelwert angibt, ist die **Standardabweichung**.\n",
    "\n",
    "Zur Berechnung der Standardabweichung werden zuerst die Abweichungen jedes\n",
    "Datenpunktes zum Mittelwert berechnet."
   ]
  },
  {
   "cell_type": "code",
   "execution_count": null,
   "id": "1adbabb5",
   "metadata": {},
   "outputs": [],
   "source": [
    "mittelwert = preise.mean()\n",
    "differenzen = preise - mittelwert\n",
    "print(differenzen)"
   ]
  },
  {
   "cell_type": "markdown",
   "id": "4e7d3b0a",
   "metadata": {},
   "source": [
    "Die negativen Vorzeichen stören, wir wollen ja die Abweichung. Daher quadrieren\n",
    "wir die Differenzen."
   ]
  },
  {
   "cell_type": "code",
   "execution_count": null,
   "id": "269310aa",
   "metadata": {},
   "outputs": [],
   "source": [
    "quadrate = differenzen * differenzen\n",
    "print(quadrate)"
   ]
  },
  {
   "cell_type": "markdown",
   "id": "fdeb075a",
   "metadata": {},
   "source": [
    "Die durchschnittliche Abweichung beschreibt nun, wie weit \"weg\" die anderen\n",
    "Verkaufspreise vom Mittelwert sind. Daher bilden wir nun von den Abweichungen\n",
    "wiederum den Mittelwert. Da Quadrate ein Series-Objekt ist, machen wir das\n",
    "diesmal nicht händisch, sondern nutzen die Methode `.mean()`."
   ]
  },
  {
   "cell_type": "code",
   "execution_count": null,
   "id": "d742f917",
   "metadata": {},
   "outputs": [],
   "source": [
    "durchschnittliche_abweichungen = quadrate.mean()\n",
    "print(f'Die durchschnittliche Abweichung ist {durchschnittliche_abweichungen}.')"
   ]
  },
  {
   "cell_type": "markdown",
   "id": "ceeb312b",
   "metadata": {},
   "source": [
    "Wenn wir die durchschnittliche Abweichung wiederum als Verkaufspreis gemessen in\n",
    "Euro interpretieren wollen, gibt es ein Problem. Offensichtlich ist diese Zahl\n",
    "soviel größer als das teuerste Auto. Das ist nicht verwunderlich, denn wir haben\n",
    "ja die quadrierten Differenzen genommen. Die Einheit der durchschnittlichen\n",
    "Abweichung ist also EUR². Das ist aber unpraktisch. Also ziehen wir wieder die\n",
    "Wurzel, damit wir ein Maß für die durchschnittliche Abweichung haben, das auch\n",
    "direkt Verkaufspreise widerspiegelt. Das nennen wir dann Standardabweichung."
   ]
  },
  {
   "cell_type": "code",
   "execution_count": null,
   "id": "b659c772",
   "metadata": {},
   "outputs": [],
   "source": [
    "standardabweichung = quadrate.mean()**0.5\n",
    "print(f'Die Standardabweichung ist {standardabweichung:.2f} EUR.')"
   ]
  },
  {
   "cell_type": "markdown",
   "id": "498df88b",
   "metadata": {},
   "source": [
    "Benutzen wir Pandas, so liefert die Methode `.std()` die Standardabweichung. Das\n",
    "'st' in `.std()` für Standard steht, ist nachvollziehbar. Der dritte Buchstabe\n",
    "'d' kommt von 'deviation', also Abweichung. Somit ist wiederum die Methode nach\n",
    "dem englischen Fachbegriff 'standard deviation' benannt. Probieren wir die\n",
    "Methode für die Autopreise aus."
   ]
  },
  {
   "cell_type": "code",
   "execution_count": null,
   "id": "6cfaec92",
   "metadata": {},
   "outputs": [],
   "source": [
    "standardabweichung = preise.std()\n",
    "print(f'Die Standardabweichung bei den Verkaufspreisen beträgt {standardabweichung} Euro.')"
   ]
  },
  {
   "cell_type": "markdown",
   "id": "908ef477",
   "metadata": {},
   "source": [
    "Der Wert, den Pandas berechnet, unterscheidet sich von dem Wert, den wir\n",
    "\"händisch\" berechnet haben. Der Unterschied kommt daher, dass es zwei Formeln\n",
    "zur Berechnung der Standardabweichung gibt. Einmal wird der Durchschnitt über\n",
    "die Quadrate gebildet, indem die Summe durch die Anzahl aller Elemente geteilt\n",
    "wird, so wie wir es getan haben. Wir haben durch 10 geteilt. Bei der anderen\n",
    "Formel wird die Summe der Quadrate durch 9 geteilt.\n",
    "\n",
    "\n",
    "## Minimum und Maximum mit min() und max()\n",
    "\n",
    "Die Namen der Methoden `.min()` und `max()` sind fast schon wieder\n",
    "selbsterklärend. Die Methode `.min()` liefert den kleinsten Wert zurück, der\n",
    "gefunden wird. Umgekehrt liefert `.max()` den größten Eintrag. Wie häufig die\n",
    "minimalen und maximalen Werte vorkommen, ist dabei egal. Es kann durchaus sein,\n",
    "dass das Minimum oder das Maximum mehrfach vorkommt.\n",
    "\n",
    "Schauen wir uns an, was der niedrigste Verkaufspreis ist. Und dann schauen wir\n",
    "nach, welches Auto am teuersten ist."
   ]
  },
  {
   "cell_type": "code",
   "execution_count": null,
   "id": "d620e13d",
   "metadata": {},
   "outputs": [],
   "source": [
    "preis_min = preise.min()\n",
    "print(f'Das billigste oder die billigsten Autos werden zum Preis von {preis_min} EUR angeboten.')\n",
    "\n",
    "preis_max = preise.max()\n",
    "print(f'Das teuerste oder die teuersten Autos werden für {preis_max} EUR angeboten.')"
   ]
  },
  {
   "cell_type": "markdown",
   "id": "aa5b53d9",
   "metadata": {},
   "source": [
    "## Quantil mit quantile()\n",
    "\n",
    "Das Quantil $p \\%$ ist der Wert, bei dem $p %$ der Einträge kleiner oder gleich\n",
    "als diese Zahl sind und $100 \\% - p \\%$ sind größer. Meist werden nicht\n",
    "Prozentzahlen verwendet, sondern p ist zwischen 0 und 1, wobei die 1 für 100 %\n",
    "steht. \n",
    "\n",
    "Angenommen, wir würden gerne das 0.5-Quantil (auch Median genannt) der Preise\n",
    "wissen. Mit der Methode `.quantile()` können wir diesen Wert leicht aus den\n",
    "Daten holen."
   ]
  },
  {
   "cell_type": "code",
   "execution_count": null,
   "id": "bb0c2a69",
   "metadata": {},
   "outputs": [],
   "source": [
    "quantil50 =preise.quantile(0.5)\n",
    "print(f'Der Median, d.h. das 50 % Quantil, liegt bei {quantil50} EUR.')"
   ]
  },
  {
   "cell_type": "markdown",
   "id": "5a16f861",
   "metadata": {},
   "source": [
    "Das 50 % -Quantil liegt bei 18900 EUR. 50 % aller Autos werden zu einem Preis\n",
    "angeboten, der kleiner oder gleich 18900 EUR ist. Und 50 % aller Autos werden\n",
    "teuer angeboten. Wir schauen uns jetzt das 75 % Quantil an."
   ]
  },
  {
   "cell_type": "code",
   "execution_count": null,
   "id": "5d976bbd",
   "metadata": {},
   "outputs": [],
   "source": [
    "quantil75 = preise.quantile(0.75)\n",
    "print(f'75 % aller Autos haben einen Preis kleiner gleich {quantil75} EUR.')"
   ]
  },
  {
   "cell_type": "markdown",
   "id": "40a22a07",
   "metadata": {},
   "source": [
    "75 % aller Autos werden günstiger als 26079.75 EUR angeboten. Auch wenn Sie sich\n",
    "natürlich für jede beliebigen Prozentsatz zwischen 0 % und 100 % das Quantil\n",
    "ansehen können, interessieren wir uns noch für das 25 % Quantil."
   ]
  },
  {
   "cell_type": "code",
   "execution_count": null,
   "id": "4d43b4d6",
   "metadata": {},
   "outputs": [],
   "source": [
    "quantil25 = preise.quantile(0.25)\n",
    "print(f'25 % aller Autos haben einen Preis kleiner gleich {quantil25} EUR.')"
   ]
  },
  {
   "cell_type": "markdown",
   "id": "342020b2",
   "metadata": {},
   "source": [
    "## Zusammenfassung und Ausblick\n",
    "\n",
    "In diesem Abschnitt haben wir uns mit einfachen statistischen Kennzahlen\n",
    "beschäftigt, die Pandas mit der Methode `.describe()` zusammenfasst, die aber\n",
    "auch einzeln über \n",
    "\n",
    "* `.count()`\n",
    "* `.mean()`\n",
    "* `.std()`\n",
    "* `.min()` und `.max()`\n",
    "* `.quantile()`\n",
    "\n",
    "berechnet und ausgegeben werden können. Im nächsten Kapitel geht es darum, durch\n",
    "Diagramme mehr über die Daten zu erfahren."
   ]
  }
 ],
 "metadata": {
  "jupytext": {
   "formats": "ipynb,md:myst"
  },
  "kernelspec": {
   "display_name": "Python 3 (ipykernel)",
   "language": "python",
   "name": "python3"
  },
  "language_info": {
   "codemirror_mode": {
    "name": "ipython",
    "version": 3
   },
   "file_extension": ".py",
   "mimetype": "text/x-python",
   "name": "python",
   "nbconvert_exporter": "python",
   "pygments_lexer": "ipython3",
   "version": "3.11.0"
  }
 },
 "nbformat": 4,
 "nbformat_minor": 5
}
