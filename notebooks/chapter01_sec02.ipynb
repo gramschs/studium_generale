{
 "cells": [
  {
   "cell_type": "markdown",
   "id": "5e113c56",
   "metadata": {},
   "source": [
    "# Boxplots mit Plotly\n",
    "\n",
    "Die wichtigsten statistischen Kennzahlen lassen sich mit einem Diagramm\n",
    "visualisieren, das Boxplot genannt wird. Selten wird auch der deutsche Begriff\n",
    "Kastendiagramm dafür gebraucht. In diesem Kapitel visualisieren wir nur einen\n",
    "Datensatz. Die große Stärke der Boxplots ist normalerweise, die statistischen\n",
    "Kennzahlen von verschiedenen Datensätzen nebeneinander zu visualisieren, um so\n",
    "leicht einen Vergleich der Datensätze zu ermöglichen.\n",
    "\n",
    "\n",
    "## Lernziele\n",
    "\n",
    "\n",
    "* Sie können **Plotly Express** mit der typischen Abkürzung **px** importieren.\n",
    "* Sie können mit **px.box()** einen Boxplot eines Pandas-Series-Objektes\n",
    "  visualisieren.\n",
    "* Sie können die Beschriftung eines Boxplots verändern. Dazu gehört die die\n",
    "  Beschriftung der Achsen und der Titel.\n",
    "* Sie können die Datenpunkte neben einem Boxplot anzeigen lassen.\n",
    "* Sie wissen, was ein **Ausreißer** ist und können Ausreißer im Boxplot anzeigen\n",
    "  lassen.\n",
    "\n",
    "\n",
    "## Plotly\n",
    "\n",
    "Es gibt zahlreiche Python-Module, die zur Visualisierung von Daten geeignet\n",
    "sind. In dieser Vorlesung verwenden wir **Plotly**. Plotly unterstützt sehr\n",
    "viele verschiedene Diagrammtypen, wie auch das bekannteste Modul zur Erstellung\n",
    "von Diagrammen, die sehr bekannte Python-Bibliothek **Matplotlib**. Im Gegensatz\n",
    "zu Matplotlib ist Plotly jedoch interaktiv. Zusätzlich bietet Plotly das Module\n",
    "**Plotly Express** an, das eine einfach zu bedienende Schnittstelle zur\n",
    "Erstellung von Diagrammen zur Verfügung stellt.\n",
    "\n",
    "Üblicherweise wird Plotly Express als `px` abgekürzt. Wir importieren das Modul\n",
    "und schauen uns mit der `dir()`-Funktion an, welche Funktionalitäten Plotly\n",
    "Express bietet."
   ]
  },
  {
   "cell_type": "code",
   "execution_count": null,
   "id": "eb2ca45c",
   "metadata": {},
   "outputs": [],
   "source": [
    "import plotly.express as px\n",
    "\n",
    "dir(px)"
   ]
  },
  {
   "cell_type": "markdown",
   "id": "bd55ad3c",
   "metadata": {},
   "source": [
    "## Boxplots mit Plotly Express\n",
    "\n",
    "Wir greifen erneut unser Autoscout24-Beispiel mit den 10 Autos auf."
   ]
  },
  {
   "cell_type": "code",
   "execution_count": null,
   "id": "12fd3054",
   "metadata": {},
   "outputs": [],
   "source": [
    "import pandas as pd\n",
    "\n",
    "preisliste = [1999, 35990, 17850, 46830, 27443, 14240, 19950, 15950, 21990, 12450]\n",
    "preise = pd.Series(preisliste, index = ['Audi Nr. 1', 'Audi Nr. 2', 'Audi Nr. 3', 'BMW Nr. 1', 'BMW Nr. 2', \n",
    "    'Citroen Nr. 1', 'Citroen Nr. 2', 'Citroen Nr. 3', 'Citroen Nr. 4', 'Citroen Nr. 5'])\n",
    "\n",
    "print(preise)"
   ]
  },
  {
   "cell_type": "markdown",
   "id": "18e8820a",
   "metadata": {},
   "source": [
    "Um einen Boxplot zu erstellen, nutzen wir die Funktion `box()` von Plotly\n",
    "Express. Wir speichern das Diagramm, das durch diese Funktion erstellt wird, in\n",
    "der Variablen `diagramm`. Um es dann auch nach seiner Erzeugung tatsächlich\n",
    "anzeigen zu lassen, verwenden wir die Methode `.show()`. Zusammen sieht der\n",
    "Python-Code zur Erzeugung eines Boxplots folgendermaßen aus:"
   ]
  },
  {
   "cell_type": "code",
   "execution_count": null,
   "id": "0ab26b06",
   "metadata": {},
   "outputs": [],
   "source": [
    "diagramm = px.box(preise)\n",
    "diagramm.show()"
   ]
  },
  {
   "cell_type": "markdown",
   "id": "ec57d29b",
   "metadata": {},
   "source": [
    "Bewegen wir die Maus über dem Diagramm, so sehen wir die interaktiven\n",
    "Möglichkeiten. Damit die Zahlen besser ablesbar sind, werden sie eingeblendet,\n",
    "sobald wir mit dem Mauszeiger über der Box sind. Auch erscheinen rechts oben\n",
    "weitere Einstellmöglichkeiten.\n",
    "\n",
    "Die untere Antenne zeigt das Minimum an, die obere Antenne das Maximum der\n",
    "Daten. Der Kasten, also die Box, wird durch das untere unteren Q1 und das obere\n",
    "Quartil Q3 begrenzt. Oder anders formuliert liegen 50 % aller auftretenden\n",
    "Elemente in der Box. Der Median wird durch die Linie in der Box dargestellt.\n",
    "\n",
    "\n",
    "## Beschriftung des Boxplots verändern\n",
    "\n",
    "Die Achsenbeschriftungen wurden automatisch gesetzt. Die x-Achse ist mit\n",
    "'variable' und die y-Achse mit 'value' beschriftet. Darüber hinaus ist der Titel\n",
    "der Box '0'. Das wird auch angezeigt, wenn die Maus sich über die Box bewegt.\n",
    "\n",
    "Die 0 wird angezeigt, weil das Pandas-Series-Objekt 'preise' für den Boxplot als\n",
    "Tabelle interpretiert wird und die erste Spalte den Index 0 hat. Wir können der\n",
    "Spalte aber auch einen eigenen Namen geben. Am einfachsten klappt das direkt bei\n",
    "der Erzeugung, indem der Parameter `name=` gesetzt wird."
   ]
  },
  {
   "cell_type": "code",
   "execution_count": null,
   "id": "5756dbb8",
   "metadata": {},
   "outputs": [],
   "source": [
    "preisliste = [1999, 35990, 17850, 46830, 27443, 14240, 19950, 15950, 21990, 12450]\n",
    "preise_mit_name = pd.Series(preisliste, index = ['Audi Nr. 1', 'Audi Nr. 2', 'Audi Nr. 3', 'BMW Nr. 1', 'BMW Nr. 2', \n",
    "    'Citroen Nr. 1', 'Citroen Nr. 2', 'Citroen Nr. 3', 'Citroen Nr. 4', 'Citroen Nr. 5'],\n",
    "    name='XXS-Liste von Autoscout24')\n",
    "\n",
    "print(preise_mit_name)"
   ]
  },
  {
   "cell_type": "markdown",
   "id": "91d5def0",
   "metadata": {},
   "source": [
    "Der neue Name 'XXS-Liste von Autoscout24' wird zusätzlich zur Information 'dtype' angezeigt.\n",
    "Damit sieht der Boxplot folgendermaßen aus:"
   ]
  },
  {
   "cell_type": "code",
   "execution_count": null,
   "id": "00a2536b",
   "metadata": {},
   "outputs": [],
   "source": [
    "diagramm = px.box(preise_mit_name)\n",
    "diagramm.show()"
   ]
  },
  {
   "cell_type": "markdown",
   "id": "6cc91e75",
   "metadata": {},
   "source": [
    "Sollen nun auch noch die Achsenbeschriftungen geändert werden, müssen wir die\n",
    "automatisch gesetzten Beschriftungen durch neue Namen ersetzt werden.\n",
    "Eingeleitet wird die Ersetzung durch das Schlüsselwort `labels=`. Danach steht\n",
    "in geschweiften Klammern `{` und `}` der alten Name, dann folgt ein Doppelpunkt\n",
    "und dann der neue Name."
   ]
  },
  {
   "cell_type": "code",
   "execution_count": null,
   "id": "99c4bc04",
   "metadata": {},
   "outputs": [],
   "source": [
    "diagramm = px.box(preise_mit_name, labels={'variable': 'Name des Datensatzes'})\n",
    "diagramm.show()"
   ]
  },
  {
   "cell_type": "markdown",
   "id": "13c72d97",
   "metadata": {},
   "source": [
    "Sollen gleich mehrere Beschriftungen ersetzt werden, werden alle Paare mit einem\n",
    "Komma getrennt aufgelistet."
   ]
  },
  {
   "cell_type": "code",
   "execution_count": null,
   "id": "510e6f3a",
   "metadata": {},
   "outputs": [],
   "source": [
    "diagramm = px.box(preise_mit_name, labels={'variable': 'Name des Datensatzes', 'value': 'Verkaufspreis [EUR]'})\n",
    "diagramm.show()"
   ]
  },
  {
   "cell_type": "markdown",
   "id": "4af52a54",
   "metadata": {},
   "source": [
    "Fehlt noch eine Überschrift, ein Titel. Wie das englische Wort 'title' heißt\n",
    "auch das entsprechende Schlüsselwort zum Erzeugen eines Titels, nämlich\n",
    "`title=`."
   ]
  },
  {
   "cell_type": "code",
   "execution_count": null,
   "id": "455faa57",
   "metadata": {},
   "outputs": [],
   "source": [
    "diagramm = px.box(preise_mit_name, \n",
    "              labels={'variable': 'Name des Datensatzes', 'value': 'Verkaufspreis [EUR]'},\n",
    "              title='Statistische Kennzahlen als Boxplot')\n",
    "diagramm.show()"
   ]
  },
  {
   "cell_type": "markdown",
   "id": "7e11e0b0",
   "metadata": {},
   "source": [
    "## Datenpunkte im Boxplot anzeigen\n",
    "\n",
    "Oft ist es wünschenswert die Rohdaten zusammen mit dem Boxplot zu visualisieren.\n",
    "Das ist mit dem `points=`-Parameter recht einfach, jedoch haben wir zwei mögliche\n",
    "Optionen. Wir können mit `'all'` alle Punkte anzeigen lassen oder nur die\n",
    "Ausreißer (`'outliers'`).\n",
    "\n",
    "Lassen wir zuerst alle Punkte anzeigen und setzen also `points='all'`."
   ]
  },
  {
   "cell_type": "code",
   "execution_count": null,
   "id": "c3281776",
   "metadata": {},
   "outputs": [],
   "source": [
    "diagramm = px.box(preise_mit_name, \n",
    "              labels={'variable': 'Name des Datensatzes', 'value': 'Verkaufspreis [EUR]'},\n",
    "              points='all')\n",
    "diagramm.show()"
   ]
  },
  {
   "cell_type": "markdown",
   "id": "fed9c9e2",
   "metadata": {},
   "source": [
    "Die Punkte werden links vom Boxplot platziert. Als nächstes lassen wir uns die\n",
    "Ausreißer anzeigen."
   ]
  },
  {
   "cell_type": "code",
   "execution_count": null,
   "id": "55e5bee0",
   "metadata": {},
   "outputs": [],
   "source": [
    "diagramm = px.box(preise_mit_name, \n",
    "              labels={'variable': 'Name des Datensatzes', 'value': 'Verkaufspreis [EUR]'},\n",
    "              points='outliers')\n",
    "diagramm.show()"
   ]
  },
  {
   "cell_type": "markdown",
   "id": "6741d31f",
   "metadata": {},
   "source": [
    "Es sind keine Punkte zu sehen, was ist falsch? Nun, um das zu klären, müssen wir\n",
    "erst einmal definieren, was ein Ausreißer ist.\n",
    "\n",
    "## Ausreißer berechnen und visualisieren\n",
    "\n",
    "Die Box im Boxplot enthält 50 % aller Datenpunkte, denn sie ist durch das untere\n",
    "Quartil Q1 und das obere Quartil Q3 begrenzt. Die Differenz zwischen Q1 und Q3\n",
    "wird **Interquartilsabstand** (manchmal auch kurz Quartilsabstand) genannt und\n",
    "mit **IQR** (englisch für Interquartile Range) abgekürzt. In der Statistik\n",
    "werden Punkte, die kleiner als Q1 - 1.5 IQR oder Punkte, die größer als Q3 + 1.5\n",
    "IQR sind, als Ausreißer angesehen. Im Beispiel des XXS-Datensatzes der\n",
    "Autopreise kommen keine Ausreißer vor, weil Minimum und Maximum noch innerhalb\n",
    "dieses Bereichs liegen. Wir fügen daher noch ein neues, teureres Auto ein. Jetzt\n",
    "sehen wir einen Ausreißer."
   ]
  },
  {
   "cell_type": "code",
   "execution_count": null,
   "id": "b7953c7e",
   "metadata": {},
   "outputs": [],
   "source": [
    "preise_mit_name['BMW Nr. 3'] = 62999\n",
    "diagramm = px.box(preise_mit_name, \n",
    "              labels={'variable': 'Name des Datensatzes', 'value': 'Verkaufspreis [EUR]'},\n",
    "              points='outliers')\n",
    "diagramm.show()"
   ]
  },
  {
   "cell_type": "markdown",
   "id": "a9beea64",
   "metadata": {},
   "source": [
    "## Zusammenfassung und Ausblick\n",
    "\n",
    "Der Boxplot ermöglicht eine einfache Visualisierung der wichtigsten\n",
    "statistischen Kennzahlen eines Datensatzes. Seine Stärke spielt er aus, sobald\n",
    "mehrere Datensätze miteinander verglichen werden sollen. Daher werden wir im\n",
    "nächsten Kapitel uns mit Tabellen beschäftigen."
   ]
  }
 ],
 "metadata": {
  "jupytext": {
   "formats": "ipynb,md:myst"
  },
  "kernelspec": {
   "display_name": "Python 3 (ipykernel)",
   "language": "python",
   "name": "python3"
  },
  "language_info": {
   "codemirror_mode": {
    "name": "ipython",
    "version": 3
   },
   "file_extension": ".py",
   "mimetype": "text/x-python",
   "name": "python",
   "nbconvert_exporter": "python",
   "pygments_lexer": "ipython3",
   "version": "3.11.0"
  }
 },
 "nbformat": 4,
 "nbformat_minor": 5
}
