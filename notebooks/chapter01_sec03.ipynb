{
 "cells": [
  {
   "cell_type": "markdown",
   "id": "cb549056",
   "metadata": {},
   "source": [
    "# Scatterplots und Scattermatrix\n",
    "\n",
    "Bei der Datenvisualisierung geht es darum, Daten durch eine Grafik so\n",
    "aufzubereiten, dass Muster oder Unregelmäßigkeiten in den Daten entdeckt werden\n",
    "können. Dabei kann die visuelle Darstellung der Daten helfen, Muster in den\n",
    "Daten zu entdecken, aber sie kann auch irreführend sein. Abhängig davon, wie die\n",
    "Art der Daten beschaffen ist, die wir visualisieren wollen, gibt es verschiedene\n",
    "Darstellungsformen, die sogenannten **Diagrammtypen**. Im Folgenden betrachten wir\n",
    "die Diagrammtypen\n",
    "\n",
    "* Scatterplot und\n",
    "* Scattermatrix.\n",
    "\n",
    "Danach beschäftigen wir uns mit der Gestaltung bzw. dem Styling von Diagrammen. \n",
    "\n",
    "\n",
    "## Lernziele\n",
    "\n",
    "* Sie können mit der Funktion **scatter()** einen **Scatterplot** erzeugen, der\n",
    "  numerische Daten als Ursache-Wirkungs-Diagramm visualisiert.\n",
    "* Sie kennen die folgenden Styling-Optionen \n",
    "  * Textannotation **text=**, \n",
    "  * Farbe **color=** und\n",
    "  * Größe **size=**, um Zusatzinformationen zu visualisieren.\n",
    "* Sie können mit **title=** den Titel des Diagramms setzen.\n",
    "* Sie können eine **Scattermatrix** mit **scatter_matrix()** erzeugen und\n",
    "  interpretieren. \n",
    "\n",
    "\n",
    "## Scatterplots\n",
    "\n",
    "Scatterplots (deutsch: Streudiagramme) werden eingesetzt, wenn der Zusammenhang\n",
    "zwischen zwei numerischen Größen untersucht werden soll. Das ist vor allem bei\n",
    "Experimenten häufig der Fall.\n",
    "\n",
    "Im Folgenden soll der Scatterplot anhand des Autoscout24-Beispiels [`→\n",
    "Download`](https://nextcloud.frankfurt-university.de/s/xDoGYwbmcrD9sDc)\n",
    "demonstriert werden. Dazu laden wir die Tabelle wie üblich mit Pandas."
   ]
  },
  {
   "cell_type": "code",
   "execution_count": null,
   "id": "6c73c561",
   "metadata": {},
   "outputs": [],
   "source": [
    "import pandas as pd\n",
    "daten = pd.read_csv('https://nextcloud.frankfurt-university.de/s/xDoGYwbmcrD9sDc/download/autoscout24_xxs.csv', index_col=0)\n",
    "daten.info()"
   ]
  },
  {
   "cell_type": "markdown",
   "id": "52bd8670",
   "metadata": {},
   "source": [
    "Uns interessieren zunächst die Verkaufspreise der Autos. Zu jedem Auto soll\n",
    "entlang der y-Achse der Verkaufspreis aufgetragen werden. Dazu wird zuerst\n",
    "Plotly Express mit der üblichen Abkürzung px importiert. Danach nutzen wir die\n",
    "Funktion `scatter()`. Das erste Argument un Klammern ist die komplette Tabelle,\n",
    "also `daten`. Danach geben wir direkt den Spaltenindex der Spalte an, die\n",
    "visualisiert werden soll, also `y = 'Preis (Euro)'`. Zuletzt lassen wir den\n",
    "Scatterplot auch mit `.show()` anzeigen."
   ]
  },
  {
   "cell_type": "code",
   "execution_count": null,
   "id": "f7beed65",
   "metadata": {},
   "outputs": [],
   "source": [
    "import plotly.express as px\n",
    "diagramm = px.scatter(daten, y = 'Preis (Euro)')\n",
    "diagramm.show()"
   ]
  },
  {
   "cell_type": "markdown",
   "id": "8394edb1",
   "metadata": {},
   "source": [
    "Da wir für die x-Achse keine Angaben gemacht haben, wird automatisch der\n",
    "Zeilenindex für die x-Achse verwendet.\n",
    "\n",
    "Der Scatterplot bietet im Vergleich zum Boxplot weitere Informationen.\n",
    "Beispielsweise erkennen wir nun, dass die Autos der Marke Citroën eher unter dem\n",
    "Durchschnitt liegen. Scatterplots bieten uns auch die Möglichkeit, Muster zu\n",
    "visuell zu erkunden, um Abhängigkeiten von Ursache und Wirkung zu erkunden. Wir\n",
    "könnten beispielsweise auf die Idee kommen, dass der Preis (= Wirkung) auch\n",
    "abhängig ist von der Anzahl der gefahrenen Kilometer (= Ursache). Wir setzen die\n",
    "vermutete Ursache auf die x-Achse mit dem Argument `x = 'Kilometerstand (km)'`\n",
    "und die vermutete Wirkung auf die y-Achse mit `y = 'Preis (Euro)'`."
   ]
  },
  {
   "cell_type": "code",
   "execution_count": null,
   "id": "914246c3",
   "metadata": {},
   "outputs": [],
   "source": [
    "diagramm = px.scatter(daten, x = 'Kilometerstand (km)', y = 'Preis (Euro)')\n",
    "diagramm.show()"
   ]
  },
  {
   "cell_type": "markdown",
   "id": "9100fbe5",
   "metadata": {},
   "source": [
    "Von der Tendenz her scheint unsere Vermutung richtig zu sein. Je mehr Kilometer\n",
    "ein Auto bereits gefahren wurde, desto günstiger ist sein Verkaufspreis.\n",
    "Allerdings scheint es zwei Autos zu geben, die nicht ganz in dieses Muster\n",
    "passen. Ein Auto wird trotz eines Kilomterstandes von 117433 km für 46 TEUR\n",
    "angeboten, an anderes hat nur 15200 km auf dem Buckel, soll aber trotzdem für\n",
    "nur 12 TEUR verkauft werden. Aber welche Autos sind die beiden Ausnahmen? Um\n",
    "mehr Informationen aus den Daten zu holen, beschäftigen wir uns mit dem Styling\n",
    "von Scatterplots.\n",
    "\n",
    "\n",
    "## Styling von Scatterplots\n",
    "\n",
    "Die Voreinstellungen von Plotly sind bereits sehr gut gewählt, so dass ohne\n",
    "weitere Optionen bereits gut aussehende und informative Diagramme erstellt\n",
    "werden können. Eine Möglichkeit, durch das Styling der Diagramme\n",
    "Zusatzinformationen zu visualisieren, bietet die Option `text=`. Wir verwenden\n",
    "den Zeilenindex als Text, der in dem Attribut `.index` gespeichert ist."
   ]
  },
  {
   "cell_type": "code",
   "execution_count": null,
   "id": "7c931e72",
   "metadata": {},
   "outputs": [],
   "source": [
    "diagramm = px.scatter(daten, x = 'Kilometerstand (km)', y = 'Preis (Euro)', text=daten.index)\n",
    "diagramm.show()"
   ]
  },
  {
   "cell_type": "markdown",
   "id": "09ab0fd3",
   "metadata": {},
   "source": [
    "An jedem Datenpunkt wird nun zusätzlich die Auto-ID eingeblendet. Leider\n",
    "überschreibt der Text den Datenpunkt selbst. Das kann nachträglich geändert\n",
    "werden, indem die Textposition relativ zu den Datenpunkten auf einen anderen\n",
    "Wert gesetzt wird. Die einzelnen Bestandteile eines Plotly-Express-Diagramms\n",
    "heißen **trace**. Sie werden durch `update_traces()` aktualisiert oder anders\n",
    "ausgedrückt, die Voreinstellungen werden dadurch überschrieben. Wir möchten,\n",
    "dass die Position der Texte oberhalb der Datenpunkte ist, aber dennoch zentriert\n",
    "zum Datenpunkt. Durch das Argument `textposition='top center'` erreichen wir\n",
    "dieses Ziel, wie der folgende Scatterplot zeigt."
   ]
  },
  {
   "cell_type": "code",
   "execution_count": null,
   "id": "f477bd8c",
   "metadata": {},
   "outputs": [],
   "source": [
    "diagramm = px.scatter(daten, x = 'Kilometerstand (km)', y = 'Preis (Euro)', text=daten.index)\n",
    "diagramm.update_traces(textposition='top center')\n",
    "diagramm.show()"
   ]
  },
  {
   "cell_type": "markdown",
   "id": "aad388b1",
   "metadata": {},
   "source": [
    "Als nächstes möchten wir weitere Zusatzinformationen in das Diagramm packen.\n",
    "Nicht immer ist es sinnvoll, so viele Zusatzinformationen in ein Diagramm zu\n",
    "bringen, da damit das Publikum auch schnell überfordert werden kann. Daher\n",
    "sollte gut überlegt werden, ob die beiden nächsten Möglichkeiten gleichzeitig\n",
    "genutzt werden sollen.  \n",
    "\n",
    "Die Farbe ist eine weitere Möglichkeit, Zusatzinformationen zu visualisieren.\n",
    "Wie alt ist ein Auto? Hat es ebenfalls einen Einfluss auf den Verkaufspreis? Wir\n",
    "nutzen das Jahr der Erstzulassung, um das Alter der Autos abzuschätzen. Die\n",
    "Anweisung an Python, die Punkte des Scatterplots nach der Erstzulassung\n",
    "einzufärben, wird durch das optionale Argument `color='Jahr'` gegeben."
   ]
  },
  {
   "cell_type": "code",
   "execution_count": null,
   "id": "c99c9a65",
   "metadata": {},
   "outputs": [],
   "source": [
    "diagramm = px.scatter(daten, x = 'Kilometerstand (km)', y = 'Preis (Euro)', text=daten.index, color='Jahr')\n",
    "diagramm.update_traces(textposition='top center')\n",
    "diagramm.show()"
   ]
  },
  {
   "cell_type": "markdown",
   "id": "e80a1b4c",
   "metadata": {},
   "source": [
    "Die Farbe scheint links gelber zu sein als rechts, wo Auto 'Audi Nr. 1' violett\n",
    "gefärbt ist. Also scheint das Jahr der Erstzulassung und damit das Alter der\n",
    "Fahrzeuge auch etwas mit dem Kilometerstand zu tun zu haben, der auf der x-Achse\n",
    "aufgetragen ist. Je jünger das Fahrzeug ist, desto weniger Kilomter wurde es\n",
    "bisher gefahren.\n",
    "\n",
    "Als zweite Möglichkeit, Zusatzinformationen direkt mit den Datenpunkten im\n",
    "Scatterplot zu visualisieren, dient die Größe der Punkte. Mit dem optionalen\n",
    "Argument `size=` wird sie gestuert. Wiederum verwenden wir einen Spaltenindex\n",
    "als Argument. Die Leistung könnte erfahrungsgemäß ebenfalls den Verkaufspreis\n",
    "beeinflussen. Also setzen wir `size='Leistung (PS)'` und betrachten das so\n",
    "erweiterte Diagramm."
   ]
  },
  {
   "cell_type": "code",
   "execution_count": null,
   "id": "b306c1a7",
   "metadata": {},
   "outputs": [],
   "source": [
    "diagramm = px.scatter(daten, x = 'Kilometerstand (km)', y = 'Preis (Euro)', text=daten.index, color='Jahr', size='Leistung (PS)')\n",
    "diagramm.update_traces(textposition='top center')\n",
    "diagramm.show()"
   ]
  },
  {
   "cell_type": "markdown",
   "id": "1c4c5aed",
   "metadata": {},
   "source": [
    "Das Auto 'BMW Nr. 1', das uns schon zuvor aufgefallen ist, weil der Preis recht\n",
    "hoch ist, obwohl das Auto schon einen mittleren Kilomterstand hat, scheint\n",
    "besonders viel PS zu haben. Vielleicht erklärt das den hohen Preis?\n",
    "\n",
    "Als letzte Styling-Möglichkeit betrachten wir den Titel. Im Gegensatz zu den\n",
    "vorherigen Styling-Möglichkeiten, ist der Titel stets Pflicht. **Jedes Diagramm\n",
    "muss einen Titel haben!** Der Titel wird mit dem Argument `title=` gesetzt."
   ]
  },
  {
   "cell_type": "code",
   "execution_count": null,
   "id": "e0d2a1aa",
   "metadata": {},
   "outputs": [],
   "source": [
    "diagramm = px.scatter(daten, x = 'Kilometerstand (km)', y = 'Preis (Euro)', text=daten.index, color='Jahr', size='Leistung (PS)', title='Verkaufsdaten von 10 Autos (Quelle: Autocout24.de)')\n",
    "diagramm.update_traces(textposition='top center')\n",
    "diagramm.show()"
   ]
  },
  {
   "cell_type": "markdown",
   "id": "e887d8d0",
   "metadata": {},
   "source": [
    "## Scattermatrix\n",
    "\n",
    "Unsere Tabelle hat sieben Spalten mit numerischen Werten: Jahr, Preis (Euro),\n",
    "Leistung (kW), Leistung (PS), Verbrauch (l/100 km), Verbrauch (g/km) und\n",
    "Kilometerstand (km). Damit können sieben Eigenschaften als Ursache interpretiert\n",
    "werden und auf der x-Achse aufgetragen werden. Zu jeder dieser sieben\n",
    "Eigenschaften können dann die verbleibenden sechs Eigenschaften als Wirkung\n",
    "interpretiert werden und auf der y-Achse dargestellt werden. Also müssten wir 42\n",
    "Scatterplots untersuchen. Die Scattermatrix vereinfacht das Zusammenstellen\n",
    "dieser Kombinatinen. Dazu legen wir erst eine Liste mit den Spaltenindizes an,\n",
    "die in die Scattermatrix aufgenommen werden sollen. Danach erzeugen wir mit der\n",
    "Funktion `scatter_matrix()` die gewünschten Kombinationen. Als erstes Argument\n",
    "werden die Daten aus der Tabelle übergeben, dann folgt die Liste der\n",
    "ausgewählten Spalten als Argument für den Parameter `dimensions=`."
   ]
  },
  {
   "cell_type": "code",
   "execution_count": null,
   "id": "9b06fa2f",
   "metadata": {},
   "outputs": [],
   "source": [
    "auswahl = ['Jahr', 'Preis (Euro)', 'Leistung (kW)', 'Leistung (PS)', 'Verbrauch (l/100 km)', 'Verbrauch (g/km)', 'Kilometerstand (km)']\n",
    "diagramm = px.scatter_matrix(daten, dimensions=auswahl)\n",
    "diagramm.show()"
   ]
  },
  {
   "cell_type": "markdown",
   "id": "bf2f09f3",
   "metadata": {},
   "source": [
    "Es werden 49 Diagramme angezeigt, die allerdings kaum lesbar sind. Warum 49 und\n",
    "nicht 42? Tatsächlich wird auch jede Eigenschaft als Ursache mit sich selbst als\n",
    "Wirkung dargestellt. Da das Diagramm so kaum lesbar ist, reduzieren wir die\n",
    "Auswahl weiter und nehmen nur die ersten vier Eigenschaften."
   ]
  },
  {
   "cell_type": "code",
   "execution_count": null,
   "id": "bd6ba111",
   "metadata": {},
   "outputs": [],
   "source": [
    "auswahl = ['Jahr', 'Preis (Euro)', 'Leistung (kW)', 'Leistung (PS)']\n",
    "diagramm = px.scatter_matrix(daten, dimensions=auswahl)\n",
    "diagramm.show()"
   ]
  },
  {
   "cell_type": "markdown",
   "id": "f644731d",
   "metadata": {},
   "source": [
    "Auf der Diagonalen befinden sich die Scatterplots, bei denen dieselbe\n",
    "Eigenschaft auf der x- und auf der y-Achse aufgetragen ist. Daher müssen diese\n",
    "Punkte immer auf der Winkelhalbierenden liegen. Diese Darstellung zeigt uns\n",
    "schnell, dass die Auswahl der Autos nicht gleichmäßig bezogen auf das Jahr der\n",
    "Erstzulassung erfolgt ist. Im Scatterplot Jahr - Jahr ist ein Punkt (1997) sehr\n",
    "weit von den restlichen Autos entfernt. Beim Preis hingegen sieht es besser aus,\n",
    "diese Punkte sind entlang der Winkelhalbierenden relativ gleichmäßig verteilt.\n",
    "Allerdings zeigen beide Scatterplots für die Leistung wiederum, dass ein Auto\n",
    "(kW = 294 bzw. PS = 400) von den anderen Autos entfern ist. Bei beiden Autos\n",
    "könnte man argumentieren, dass sie nicht repräsentativ für den Datensatz sind,\n",
    "sondern als Ausreißer betrachtet werden müssen. Es stellt sich die Frage, ob sie\n",
    "für die weitere Datenverarbeitung aus dem Datensatz gelöscht werden sollen.  \n",
    "\n",
    "Betrachten wir den Scatterplot Leistung (kW) vs. Leistung (PS), so stellen wir\n",
    "fest, dass die Punkte ebenfalls auf der Winkelhalbierenden liegen. Tatsächlich\n",
    "ist das nicht verwunderlich, da die Leistung ja nur eine einzige Eigenschaft\n",
    "darstellt, aber in zwei verschiedenen Einheiten angegeben wird. 1 Watt (W) sind\n",
    "ungefähr 0,00136 Pferdestärken (PS). Die Scattermatrix zeigt uns nun (wenn wir\n",
    "es nicht schon vorher wussten), dass wir nur eine der beiden Spalten brauchen.\n",
    "Diese Spalte könnte für die weitere Datenexploration gelöscht werden."
   ]
  },
  {
   "cell_type": "code",
   "execution_count": null,
   "id": "fd694696",
   "metadata": {},
   "outputs": [],
   "source": [
    "auswahl = ['Jahr', 'Preis (Euro)', 'Leistung (kW)']\n",
    "diagramm = px.scatter_matrix(daten, dimensions=auswahl)\n",
    "diagramm.show()"
   ]
  },
  {
   "cell_type": "markdown",
   "id": "5ae20868",
   "metadata": {},
   "source": [
    "Als letztes Interpretationsbeispiel betrachten wir die zweite Zeile der Matrix,\n",
    "wo der Preis (Euro) auf der y-Achse aufgetragen ist. Betrachten wir den ersten\n",
    "Scatterplot der zweiten Zeile, so scheint das Jahr keinen besonderen Einfluss\n",
    "auf den Verkaufspreis zu haben. Beim dritten Scatterplot in der zweiten Zeile,\n",
    "scheint es aber ein Muster zu geben. Mit wachsender Leistung scheint auch der\n",
    "Verkaufspreis zu steigen. Die Scattermatrix hilft also gerade zu Beginn der\n",
    "Datenexploration schnell, interessante Zusammenhänge zwischen einzelnen\n",
    "Eigenschaften aufzudecken, die dann durch einzelne Scatterplots näher untersucht\n",
    "werden können.\n",
    "\n",
    "\n",
    "## Zusammenfassung und Ausblick\n",
    "\n",
    "In diesem Kapitel haben wir uns mit der Visualisierung von numerischen Werten\n",
    "beschäftigt. Die Scattermatrix ordnet alle Kombinationen von einzelnen\n",
    "Scatterplots in einer Matrix an. Damit können schnell Muster in den Daten\n",
    "gefunden werden, deren Abhängigkeiten dann wiederum durch einzelne Scatterplots\n",
    "detaillierter beleuchtet werden können. Bisher haben wir aber nur die\n",
    "numerischen Werte untersucht. Wie auch die nicht-numerischen Werte wie\n",
    "beispielsweise die Farbe der Autos mit in die Visualisierung einbezogen werden\n",
    "können, sehen wir im nächsten Kapitel."
   ]
  }
 ],
 "metadata": {
  "jupytext": {
   "formats": "ipynb,md:myst"
  },
  "kernelspec": {
   "display_name": "Python 3 (ipykernel)",
   "language": "python",
   "name": "python3"
  },
  "language_info": {
   "codemirror_mode": {
    "name": "ipython",
    "version": 3
   },
   "file_extension": ".py",
   "mimetype": "text/x-python",
   "name": "python",
   "nbconvert_exporter": "python",
   "pygments_lexer": "ipython3",
   "version": "3.11.0"
  }
 },
 "nbformat": 4,
 "nbformat_minor": 5
}
