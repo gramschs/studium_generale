{
 "cells": [
  {
   "cell_type": "markdown",
   "id": "655957c7",
   "metadata": {},
   "source": [
    "# Plots mit Karten\n",
    "\n",
    "Es ist nützlich, Eigenschaften eines Gebietes auf einer Karte zu visualisieren,\n",
    "da Karten eine räumliche Darstellung der Daten ermöglichen. Im Gegensatz zu\n",
    "Tabellen zeigen Karten, wo bestimmte Eigenschaften auftreten und wo nicht.\n",
    "Karten machen es leicht, Muster und Trends auf einen Blick zu erkennen und die\n",
    "räumliche Beziehung zwischen verschiedenen Eigenschaften zu verstehen.\n",
    "\n",
    "Zum Beispiel kann eine Karte die Verbreitung von Krankheiten oder die Verteilung\n",
    "von Ressourcen in einem Gebiet zeigen. Eine Tabelle kann diese Informationen\n",
    "ebenfalls darstellen, aber eine Karte gibt einen visuellen Überblick über die\n",
    "räumliche Verteilung. Karten können auch verwendet werden, um Entscheidungen zu\n",
    "treffen, wie z.B. Standorte für neue Unternehmen oder Infrastrukturprojekte zu\n",
    "finden.\n",
    "\n",
    "Darüber hinaus können Karten auch dazu beitragen, komplexe Daten und\n",
    "Informationen auf eine einfache und verständliche Weise zu kommunizieren, die\n",
    "für eine breitere Öffentlichkeit zugänglich ist. Karten sind oft intuitiv und\n",
    "erfordern keine speziellen Fähigkeiten oder Kenntnisse, um sie zu verstehen.\n",
    "Daher werden wir uns in diesem Abschnitt der Visualisierung von Karten und\n",
    "Zusatzinformationen mit dem Python-Modul Folium widmen.\n",
    "\n",
    "## Lernziele\n",
    "\n",
    "* Sie kennen das Modul **Folium** und können es importieren.\n",
    "* Sie können eine Basiskarte mit **.Map()** erstellen.\n",
    "* Sie können Positionen auf dieser Karte mit **.Marker()** markieren.\n",
    "* Sie wissen, was eine **GeoJSON** Datei istund wie diese erstellt werden kann.\n",
    "* Sie wissen, was eine **Choroplethenkarte** ist und können diese mit Folium\n",
    "  visualisieren.\n",
    "\n",
    "\n",
    "## Karte laden und anzeigen mit Folium\n",
    "\n",
    "Folium ist ein Python-Modul, das es Benutzern ermöglicht, interaktive Karten zu\n",
    "erstellen und zu visualisieren. Mit Folium können Sie Daten auf einer Karte\n",
    "darstellen, indem Sie Markierungen, Polygone, Linien oder Heatmaps hinzufügen.\n",
    "Es basiert auf dem beliebten JavaScript-Modul Leaflet.js, das eine\n",
    "benutzerfreundliche Schnittstelle für die Erstellung interaktiver Karten bietet.\n",
    "\n",
    "Als erstes wird das Module Folium importiert."
   ]
  },
  {
   "cell_type": "code",
   "execution_count": null,
   "id": "3a00c093",
   "metadata": {},
   "outputs": [],
   "source": [
    "import folium"
   ]
  },
  {
   "cell_type": "markdown",
   "id": "43c3e8a4",
   "metadata": {},
   "source": [
    "Als nächstes erstellen wir eine Karte mit der Basiskarte von OpenStreetMap als\n",
    "Hintergrund. Dazu wird die Funktion `Map()` verwendet. Der `location`-Parameter\n",
    "gibt die Koordinaten des Startpunkts an, den wir auf das Zentrum der Frankfurt\n",
    "UAS (50.110880, 8.679490) setzen. Der `zoom_start`-Parameter legt den Zoomfaktor\n",
    "fest, bei dem die Karte gestartet wird. Damit das Karten-Objekt, das wir in der\n",
    "Variable `karte` gespeichert haben, auch angezeigt wird, wird `karte` nochmal\n",
    "aufgerufen."
   ]
  },
  {
   "cell_type": "code",
   "execution_count": null,
   "id": "784752e6",
   "metadata": {},
   "outputs": [],
   "source": [
    "# Laden der Karte  \n",
    "karte = folium.Map(location=[50.110880, 8.679490], zoom_start=13)\n",
    "\n",
    "# Anzeige der Karte\n",
    "karte"
   ]
  },
  {
   "cell_type": "markdown",
   "id": "fedd1f94",
   "metadata": {},
   "source": [
    "## Karten markieren\n",
    "\n",
    "Das Hinzufügen von Markierungen (auch \"Pins\" genannt) auf einer Karte in Folium\n",
    "ist einfach und flexibel. Um eine Markierung hinzuzufügen, verwenden wir die\n",
    "`folium.Marker()`-Methode und geben die Koordinaten des Ortes an, an dem wir die\n",
    "Markierung hinzufügen möchten.\n",
    "\n",
    "Zusätzlich können wir der Markierung auch eine Beschreibung in Form eines Popups\n",
    "hinzufügen. Das Popup wird angezeigt, wenn der Benutzer auf die Markierung\n",
    "klickt.\n",
    "\n",
    "Hier ist ein Beispiel, das zeigt, wie Sie eine Markierung auf einer Karte\n",
    "hinzufügen können:"
   ]
  },
  {
   "cell_type": "code",
   "execution_count": null,
   "id": "bd4dae9a",
   "metadata": {},
   "outputs": [],
   "source": [
    "# Erstellen Sie eine Karte mit einem Startpunkt und Zoomfaktor\n",
    "karte_markiert = folium.Map(location=[50.13085378545699, 8.691700550887166], zoom_start=15)\n",
    "\n",
    "# Fügen Sie eine Markierung mit einem Popup hinzu\n",
    "folium.Marker(location=[50.13085378545699, 8.691700550887166], popup='Hier sitzen wir :-)').add_to(karte_markiert)\n",
    "\n",
    "# Zeigen Sie die Karte an\n",
    "karte_markiert"
   ]
  },
  {
   "cell_type": "markdown",
   "id": "98fefce4",
   "metadata": {},
   "source": [
    "In diesem Beispiel erstellen wir eine Karte mit dem Startpunkt Frankfurt UAS und\n",
    "einem Zoomfaktor von 15. Wir fügen dann eine Markierung an der gleichen Position\n",
    "wie unser Startpunkt hinzu, indem wir die `folium.Marker()`-Methode verwenden.\n",
    "Der `popup`-Parameter fügt einen Text hinzu, der angezeigt wird, wenn der\n",
    "Benutzer auf die Markierung klickt. Zoomen Sie doch einmal weiter in die Karte\n",
    "hinein!\n",
    "\n",
    "Es ist auch möglich, mehrere Markierungen auf derselben Karte hinzuzufügen,\n",
    "indem Sie einfach weitere `folium.Marker()`-Aufrufe machen. Sie können die\n",
    "Markierungen auch anpassen, indem Sie verschiedene Symbole, Farben und Größen\n",
    "verwenden, um sie leicht unterscheidbar zu machen.\n",
    "\n",
    "## Choroplethenkarte und GeoJSON\n",
    "\n",
    "Eine **Choroplethenkarte** ist eine Art von Karte, bei der bestimmte\n",
    "geografische Gebiete (z.B. Staaten, Länder, Regionen) anhand einer Farbskala\n",
    "basierend auf einem numerischen Wert oder einer Rate eingefärbt werden. Diese\n",
    "Art von Karte wird oft verwendet, um räumliche Muster oder Unterschiede in Daten\n",
    "darzustellen, wie z.B. Bevölkerungsdichte, Kriminalitätsrate oder\n",
    "Wirtschaftswachstum. Weitere Details finden Sie bei [Wikipedia →\n",
    "Choroplethenkarte](https://de.wikipedia.org/wiki/Choroplethenkarte).\n",
    "\n",
    "Folium bietet ebenfalls die Möglichkeit, Choroplethenkarten zu erstellen. Um\n",
    "eine Choroplethenkarte mit Folium zu erstellen, benötigen wir\n",
    "**GeoJSON-Dateien**, die die Geometrien der zu färbenden Gebiete enthalten,\n",
    "sowie Daten, die diesen Gebieten zugeordnet sind. Die GeoJSON-Dateien können aus\n",
    "verschiedenen Quellen stammen, z.B. von der Regierung, Open Data-Projekten oder\n",
    "Geodatenbanken.\n",
    "\n",
    "Eine GeoJSON-Datei ist ein Dateiformat, das Geodaten im JSON-Format enthält. Es\n",
    "wird häufig verwendet, um geometrische Formen (z.B. Linien, Polygone) und ihre\n",
    "zugehörigen Eigenschaften (z.B. Name, ID) zu beschreiben. Es gibt verschiedene\n",
    "Möglichkeiten, eine GeoJSON-Datei zu erstellen, abhängig von den vorhandenen\n",
    "Daten und Werkzeugen. \n",
    "\n",
    "Der folgende Screencast demonstriert, wie eine GeoJSON-Datei mit Hilfe der\n",
    "Webseite [http://geojson.io/](http://geojson.io/) erstellt wird.\n",
    "\n",
    "https://gramschs.github.io/book_ml4ing/_static/videos/geojson_erzeugen.mp4\n",
    "\n",
    "Die fertige GeoJSON-Datei finden Sie hier:\n",
    "\n",
    "https://nextcloud.frankfurt-university.de/s/jrLsb3taFcpiri2\n",
    "\n",
    "\n",
    "## GeoJSON in Folium\n",
    "\n",
    "Um GeoJSON in einer mit Folium erstellten Karte zu verwenden, gehen wir folgt\n",
    "vor. Zuerst wird die Karte wie üblich mit der `.Map()` Funktion erstellt. Danach\n",
    "wird eine Choroplethenkarte mit `folium.Choroplth()` erzeugt und mit `.add_to()`\n",
    "zu der ersten Karte hinzugefügt. Bei der Erstellung der Choroplethenkarte muss\n",
    "der Pfad und der Dateiname der GeoJSON-Datei bei dem Argument `geo_data`\n",
    "angegeben werden."
   ]
  },
  {
   "cell_type": "code",
   "execution_count": null,
   "id": "66487c48",
   "metadata": {},
   "outputs": [],
   "source": [
    "# Erstellen Sie eine Karte Frankfurt UAS als Ausgangspunkt und Zoomfaktor\n",
    "karte_geojson = folium.Map(location=[50.13085378545699, 8.691700550887166], zoom_start=13)\n",
    "\n",
    "geojson_datei = \"geojson_frankfurt_uas.json\"\n",
    "\n",
    "# Erstellen Sie eine Choroplethenkarte und fügen Sie sie zur Karte hinzu\n",
    "folium.Choropleth(\n",
    "    geo_data=\"geojson_frankfurt_uas.json\",\n",
    "    name='choropleth'\n",
    ").add_to(karte_geojson)\n",
    "\n",
    "# Zeigen Sie die Karte an\n",
    "karte_geojson"
   ]
  },
  {
   "cell_type": "markdown",
   "id": "603a4884",
   "metadata": {},
   "source": [
    "Natürlich ist es auch möglich, das Styling der Choroplethenkarte zu ändern. Dies\n",
    "wird vor allem dazu genutzt, Gebiete einer Karte mit einer Farbe einzufärben,\n",
    "die beispielsweise Eigenschaften dieses Gebietes repräsentiert. Für mehr Details\n",
    "können Sie gerne die [Dokumentation von\n",
    "Folium](https://python-visualization.github.io/folium/quickstart.html)\n",
    "hinzuziehen."
   ]
  }
 ],
 "metadata": {
  "jupytext": {
   "formats": "ipynb,md:myst"
  },
  "kernelspec": {
   "display_name": "Python 3 (ipykernel)",
   "language": "python",
   "name": "python3"
  },
  "language_info": {
   "codemirror_mode": {
    "name": "ipython",
    "version": 3
   },
   "file_extension": ".py",
   "mimetype": "text/x-python",
   "name": "python",
   "nbconvert_exporter": "python",
   "pygments_lexer": "ipython3",
   "version": "3.11.0"
  }
 },
 "nbformat": 4,
 "nbformat_minor": 5
}
