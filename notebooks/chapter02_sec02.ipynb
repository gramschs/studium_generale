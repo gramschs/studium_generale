{
 "cells": [
  {
   "cell_type": "markdown",
   "id": "146ef686",
   "metadata": {},
   "source": [
    "# Daten filtern und gruppieren\n",
    "\n",
    "Im vorherigen Kapitel haben wir Autos basierend auf ihrem Kilometerstand\n",
    "gruppiert und visualisiert. Während diese Gruppierung automatisch im Hintergrund\n",
    "stattfand, werden wir in diesem Kapitel lernen, wie wir direkt auf die\n",
    "gruppierten Daten zugreifen und zusätzliche Analysen durchführen können.\n",
    "\n",
    "\n",
    "## Lernziele\n",
    "\n",
    "* Sie wissen, dass die Wahrheitswerte `True` (wahr)  oder `False` (falsch) in\n",
    "  dem Datentyp **bool** gespeichert werden.\n",
    "* Sie kennen die wichtigstens Vergleichsoperatoren (`<`, `<=`, `>`, `>=`, `==`,\n",
    "  `!=`, `in`, `not in`) in Python.\n",
    "* Sie können ein Pandas-DataFrame-Objekt nach einem Wert filtern.\n",
    "* Sie können ein Pandas-DataFrame-Objekt mit den Methoden `groupby()` und\n",
    "  `get_group()` gruppieren.\n",
    "\n",
    "\n",
    "\n",
    "## Daten filtern\n",
    "\n",
    "Im vorherigen Kapitel haben wir die Kilometerstände von Autos untersucht, die im\n",
    "Jahr 2020 zugelassen und Mitte 2023 auf Autoscout24.de angeboten wurden. Bei der\n",
    "Kategorisierung der Kilometerstände fiel auf, dass Fahrzeuge mit einer\n",
    "Laufleistung von über 200000 km selten sind. Trotzdem beeinflusste dies die\n",
    "Aufteilung in zehn gleichmäßige Gruppen, die von 0 km bis 435909 km reichten,\n",
    "erheblich. Um eine genauere Analyse zu ermöglichen, wäre es sinnvoll, Fahrzeuge\n",
    "mit einer Laufleistung von bis zu 200.000 km in den Fokus zu nehmen und die\n",
    "Ausreißer auszuschließen. Daher widmen wir uns in diesem Kapitel der Filterung\n",
    "von tabellarischen Datensätzen mithilfe von Pandas.\n",
    "\n",
    "Zuerst laden wir den Datensatz \n",
    "\n",
    "https://nextcloud.frankfurt-university.de/s/pD8LiWfCbzZgsGS\n",
    "\n",
    "und überprüfen den Inhalt."
   ]
  },
  {
   "cell_type": "code",
   "execution_count": null,
   "id": "d8012f36",
   "metadata": {},
   "outputs": [],
   "source": [
    "import pandas as pd\n",
    "\n",
    "data = pd.read_csv('https://nextcloud.frankfurt-university.de/s/jrLsb3taFcpiri2/download/autoscout24_DE_2020.csv')\n",
    "data.info()"
   ]
  },
  {
   "cell_type": "markdown",
   "id": "05e25ffa",
   "metadata": {},
   "source": [
    "Um die Autos mit einem Kilometerstand von bis zu 200000 km zu filtern,\n",
    "vergleichen wir die entsprechende Spalte mit dem Wert 200000, indem wir den aus\n",
    "der Mathematik bekannten Kleiner-gleich-Operators `<=` benutzen. Das Ergebnis\n",
    "dieses Vergleichs speichern wir in der Variable `bedingung`."
   ]
  },
  {
   "cell_type": "code",
   "execution_count": null,
   "id": "84dc81cb",
   "metadata": {},
   "outputs": [],
   "source": [
    "bedingung = data['Kilometerstand (km)'] <= 200000"
   ]
  },
  {
   "cell_type": "markdown",
   "id": "1b8dbace",
   "metadata": {},
   "source": [
    "Aber was genau ist in der Variable `bedingung` enthalten? Schauen wir uns den\n",
    "Datentyp an:"
   ]
  },
  {
   "cell_type": "code",
   "execution_count": null,
   "id": "83bb78a5",
   "metadata": {},
   "outputs": [],
   "source": [
    "type(bedingung)"
   ]
  },
  {
   "cell_type": "markdown",
   "id": "ff90875d",
   "metadata": {},
   "source": [
    "Offensichtlich handelt es sich um ein Pandas-Series-Objekt. Für weitere\n",
    "Informationen können wir die `.info()`-Methode aufrufen:"
   ]
  },
  {
   "cell_type": "code",
   "execution_count": null,
   "id": "adcf60a8",
   "metadata": {},
   "outputs": [],
   "source": [
    "bedingung.info()"
   ]
  },
  {
   "cell_type": "markdown",
   "id": "9366105e",
   "metadata": {},
   "source": [
    "In dem Series-Objekt sind 18566 Einträge vom Datentyp `bool` gespeichert. Diesen\n",
    "Datentyp haben wir bisher nicht kennengelernt. Wir lassen die ersten fünf\n",
    "Einträge ausgeben:"
   ]
  },
  {
   "cell_type": "code",
   "execution_count": null,
   "id": "f10e0869",
   "metadata": {},
   "outputs": [],
   "source": [
    "bedingung.head()"
   ]
  },
  {
   "cell_type": "markdown",
   "id": "b51f16ce",
   "metadata": {},
   "source": [
    "Sind alle Einträge mit dem Wert `True` gefüllt? Wie viele und vor allem welche\n",
    "einzigartige Einträge gibt es in diesem Series-Objekt?"
   ]
  },
  {
   "cell_type": "code",
   "execution_count": null,
   "id": "612d0eac",
   "metadata": {},
   "outputs": [],
   "source": [
    "bedingung.unique()"
   ]
  },
  {
   "cell_type": "markdown",
   "id": "93100806",
   "metadata": {},
   "source": [
    "Das Series-Objekt enthält nur `True` und `False`, was den Datentyp `bool`\n",
    "charakterisiert. In diesem Datentyp können nur zwei verschiedene Werte\n",
    "gespeichert werden, nämlich wahr (True) und falsch (False). Oft sind\n",
    "Wahrheitswerte das Ergebnis eines Vergleichs, wie das folgende Code-Beispiel\n",
    "zeigt:"
   ]
  },
  {
   "cell_type": "code",
   "execution_count": null,
   "id": "4c8e3057",
   "metadata": {},
   "outputs": [],
   "source": [
    "x = 19\n",
    "print(x  < 100)"
   ]
  },
  {
   "cell_type": "markdown",
   "id": "ec873154",
   "metadata": {},
   "source": [
    "In der Python-Programmierung wird der Datentyp bool oft verwendet, um\n",
    "Programmcode zu verzweigen. Damit ist gemeint, dass Teile des Programms nur\n",
    "durchlaufen und ausgeführt werden, wenn eine bestimmte Bedingung wahr (True)\n",
    "ist. In dieser Vorlesung benutzen wir bool-Werte hauptsächlich zum Filtern von\n",
    "Daten.\n",
    "\n",
    "\n",
    "**Welche Vergleichsoperatoren kennt Python?**\n",
    "\n",
    "In Python können die mathematischen Vergleichsoperatoren in ihrer gewohnten\n",
    "Schreibweise verwendet werden:\n",
    "* `<` kleiner als\n",
    "* `<=` kleiner als oder gleich \n",
    "* `>` größer\n",
    "* `>=` größer als oder gleich\n",
    "* `==` gleich (`=` ist der Zuweisungsoperator, nicht mit Gleichheit\n",
    "  verwechseln!)\n",
    "* `!=` ungleich \n",
    "\n",
    "Darüber hinaus kann mit `in` oder `not in` getestet werden, ob\n",
    "ein Element in einer Liste ist oder eben nicht.\n",
    "\n",
    "\n",
    "Aber was machen wir jetzt mit diesem Series-Objekt? Wir können es als Index\n",
    "benutzen für den ursprünglichen Datensatz benutzen. Die Zeilen, in denen `True`\n",
    "sthet, werden übernommen, die anderen verworfen."
   ]
  },
  {
   "cell_type": "code",
   "execution_count": null,
   "id": "2b15f0a3",
   "metadata": {},
   "outputs": [],
   "source": [
    "autos_bis_200000km = data[bedingung]\n",
    "autos_bis_200000km.info()"
   ]
  },
  {
   "cell_type": "markdown",
   "id": "b4f566b1",
   "metadata": {},
   "source": [
    "Von den 18566 Autos wurden 18525 Autos übernommen. Ist denn die Filterung\n",
    "geglückt? Wir verschaffen uns mit der `.describe()`-Methode einen schnellen\n",
    "Überblick."
   ]
  },
  {
   "cell_type": "code",
   "execution_count": null,
   "id": "6f665c6a",
   "metadata": {},
   "outputs": [],
   "source": [
    "autos_bis_200000km.describe()"
   ]
  },
  {
   "cell_type": "markdown",
   "id": "10ae530e",
   "metadata": {},
   "source": [
    "Der maximale Eintrag für die Spalte `Kilometerstand (km)` ist 199000 km. Mit dem\n",
    "Tilde-Operaot `~` können wir das Pandas-Series-Objekt `bedingung` in das\n",
    "Gegenteil umwandeln. Damit können wir also die Autos, bei denen der Vergleich\n",
    "`<= 200000` zu `False` ausgewertet wurde, herausfiltern."
   ]
  },
  {
   "cell_type": "code",
   "execution_count": null,
   "id": "d97cbcce",
   "metadata": {},
   "outputs": [],
   "source": [
    "autos_ab_200000km = data[~bedingung]\n",
    "autos_ab_200000km.info()"
   ]
  },
  {
   "cell_type": "markdown",
   "id": "8a08b55a",
   "metadata": {},
   "source": [
    "41 Autos, die 2020 zugelassen wurden, sollten Mitte 2023 mit einem\n",
    "Kilometerstand von mehr als 200000 km verkauft werden. Schauen wir uns die\n",
    "Statistik an."
   ]
  },
  {
   "cell_type": "code",
   "execution_count": null,
   "id": "95fe7640",
   "metadata": {},
   "outputs": [],
   "source": [
    "autos_ab_200000km.describe()"
   ]
  },
  {
   "cell_type": "markdown",
   "id": "cbd50883",
   "metadata": {},
   "source": [
    "Und was sind das für Autos?"
   ]
  },
  {
   "cell_type": "code",
   "execution_count": null,
   "id": "9f601eb9",
   "metadata": {},
   "outputs": [],
   "source": [
    "autos_ab_200000km.head(10)"
   ]
  },
  {
   "cell_type": "markdown",
   "id": "ebab674a",
   "metadata": {},
   "source": [
    "## Gruppieren\n",
    "\n",
    "Eine Filterung nach Kilometerstand ermöglicht es uns, die Autos in zwei\n",
    "Datensätze zu teilen: Autos mit bis zu 200000 km Laufleistung und jene mit mehr\n",
    "als 200000 km (hierzu kann der Tilde-Operator (~) verwendet werden).\n",
    "\n",
    "Wenden wir nun diese Technik an, um die Fahrzeuge basierend auf ihrer Marke zu\n",
    "trennen. Ein Beispiel: Um alle \"Audi\"-Fahrzeuge zu extrahieren, verwenden wir\n",
    "den folgenden Code:"
   ]
  },
  {
   "cell_type": "code",
   "execution_count": null,
   "id": "25538682",
   "metadata": {},
   "outputs": [],
   "source": [
    "bedingung_audi = data['Marke'] == 'audi'\n",
    "audis = data[bedingung_audi]\n",
    "audis.info()"
   ]
  },
  {
   "cell_type": "markdown",
   "id": "a56b4815",
   "metadata": {},
   "source": [
    "Diese Bedingung erfüllen 1.190 Autos. Der Gesamtdatensatz enthält jedoch 41\n",
    "unterschiedliche Automarken. Es wäre ineffizient, für jede Marke eine separate\n",
    "Filterung durchzuführen. Deshalb bietet Pandas die `.groupby()`-Methode, die es\n",
    "erlaubt, die Daten automatisch nach den einzigartigen Einträgen einer Spalte zu\n",
    "gruppieren:"
   ]
  },
  {
   "cell_type": "code",
   "execution_count": null,
   "id": "bdfc8354",
   "metadata": {},
   "outputs": [],
   "source": [
    "autos_nach_marke = data.groupby('Marke')\n",
    "type(autos_nach_marke)"
   ]
  },
  {
   "cell_type": "markdown",
   "id": "4b4056eb",
   "metadata": {},
   "source": [
    "Das Resultat ist eine spezielle Pandas-Datenstruktur namens `DataFrameGroupBy`.\n",
    "Es sind nicht alle bisher bekannte Methoden auf dieses Objekt anwendbar, aber\n",
    "beispielsweise die `.describe()`-Methode darf verwendet werden:"
   ]
  },
  {
   "cell_type": "code",
   "execution_count": null,
   "id": "50126bed",
   "metadata": {},
   "outputs": [],
   "source": [
    "autos_nach_marke.describe()"
   ]
  },
  {
   "cell_type": "markdown",
   "id": "fd68b40f",
   "metadata": {},
   "source": [
    "Für jede Automarke werden nun für jede Spalte mit metrischen (quantitativen)\n",
    "Informationen die statistischen Kennzahlen ermittelt. Die entstehende Tabelle\n",
    "ist etwas unübersichtlich. Besser ist daher, sich die statistischen Kennzahlen\n",
    "einzeln ausgeben zu lassen. Im folgenden ermitteln wir die Mittelwerte der\n",
    "metrischen Informationen nach Automarke. Damit tatsächlich auch nur die\n",
    "metrischen Daten gemittelt werden, müssen wir als Argument noch zusätzlich\n",
    "`numeric_only=True` setzen."
   ]
  },
  {
   "cell_type": "code",
   "execution_count": null,
   "id": "1e07e6d7",
   "metadata": {},
   "outputs": [],
   "source": [
    "autos_nach_marke.mean(numeric_only=True)"
   ]
  },
  {
   "cell_type": "markdown",
   "id": "21e624f5",
   "metadata": {},
   "source": [
    "Eine sehr wichtige Methode der GroupBy-Datenstruktur ist die\n",
    "`get_group()`-Methode. Damit können wir ein bestimmtes DataFrame-Objekt aus dem\n",
    "GroupBy-Objekt extrahieren:"
   ]
  },
  {
   "cell_type": "code",
   "execution_count": null,
   "id": "4fcd9cc2",
   "metadata": {},
   "outputs": [],
   "source": [
    "audis_alternativ = autos_nach_marke.get_group('audi')\n",
    "audis_alternativ.info()"
   ]
  },
  {
   "cell_type": "markdown",
   "id": "ec1b20b8",
   "metadata": {},
   "source": [
    "In der Variablen `audis_alternativ` steckt nun der gleiche Datensatz wie in der\n",
    "Variablen `audis`, den wir bereits durch das Filtern des ursprünglichen\n",
    "Datensatzes extrahiert haben. \n",
    "\n",
    "\n",
    "## Zusammenfassung und Ausblick\n",
    "\n",
    "Dieses Kapitel hat uns in die Technik des Datenfilterns eingeführt. Um\n",
    "spezifische Einträge aus einem Datensatz basierend auf einem bestimmten Wert zu\n",
    "extrahieren, nutzen wir Vergleichsoperationen und verwenden das resultierende\n",
    "Series-Objekt als Index. Wenn das Ziel darin besteht, Daten anhand der\n",
    "einzigartigen Werte einer Spalte zu gruppieren, dann ist die Kombination von\n",
    "`.groupby()` und `.get_group()` oft der effizienteste Weg. Damit haben wir\n",
    "unsere Einführung in die Datenexploration abgeschlossen, obwohl es noch viele\n",
    "weitere Möglichkeiten gibt, die Daten zu erkunden. Im nächsten Kapitel starten\n",
    "wir mit den Grundlagen des maschinellen Lernens und befassen uns mit der\n",
    "linearen Regression."
   ]
  }
 ],
 "metadata": {
  "jupytext": {
   "formats": "ipynb,md:myst"
  },
  "kernelspec": {
   "display_name": "Python 3 (ipykernel)",
   "language": "python",
   "name": "python3"
  },
  "language_info": {
   "codemirror_mode": {
    "name": "ipython",
    "version": 3
   },
   "file_extension": ".py",
   "mimetype": "text/x-python",
   "name": "python",
   "nbconvert_exporter": "python",
   "pygments_lexer": "ipython3",
   "version": "3.11.0"
  }
 },
 "nbformat": 4,
 "nbformat_minor": 5
}
